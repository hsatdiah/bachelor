{
 "cells": [
  {
   "cell_type": "code",
   "execution_count": 1,
   "metadata": {
    "collapsed": true
   },
   "outputs": [],
   "source": [
    "from numpy import sqrt, pi, exp, arcsin, linspace, loadtxt, zeros, diag\n",
    "from pandas import DataFrame\n",
    "from scipy.optimize import curve_fit\n",
    "import matplotlib.pyplot as plt\n",
    "from scipy.special import hyp2f1"
   ]
  },
  {
   "cell_type": "code",
   "execution_count": 2,
   "metadata": {
    "code_folding": [
     0
    ],
    "collapsed": true
   },
   "outputs": [],
   "source": [
    "def show_params(D1, D2, K):\n",
    "    table_data = {\n",
    "        'D1'   : D1,\n",
    "        'D2'   : D2,\n",
    "        'D1/D2': D1/D2,\n",
    "        'K'    : K\n",
    "    }\n",
    "    props_table = DataFrame(\n",
    "        table_data,\n",
    "        index=[0],\n",
    "        columns=['D1', 'D2', 'D1/D2', 'K']\n",
    "    )\n",
    "    return props_table.style\n",
    "\n",
    "def plot(x0, D_obs, *args):\n",
    "    fig  = plt.figure()\n",
    "    axes = fig.add_subplot(1,1,1)\n",
    "    axes.plot(x0, D_obs, 'o', linewidth=3, color='#90CAF9', label='D (observed)')\n",
    "    axes.plot(x0, SHIM(x0, args[0], args[1], args[2]), linewidth=2, color='#BA68C8', label='D (SHIM)')\n",
    "    axes.plot(x0, SHIM(x0, args[3], args[4], args[5]), '--', linewidth=1, color='green', label='suppl. calc')\n",
    "    axes.spines['top'].set_visible(False)\n",
    "    axes.spines['right'].set_visible(False)\n",
    "    axes.xaxis.set_ticks_position('bottom')\n",
    "    axes.yaxis.set_ticks_position('left')\n",
    "    axes.set_xlabel('Concentration')\n",
    "    axes.set_ylabel('D')\n",
    "    axes.legend()\n",
    "    axes.grid(alpha=.5)\n",
    "    plt.show()\n",
    "\n",
    "def SHIM(x0, D1, D2, K):\n",
    "    x1 = (1+2*K*x0-(1+4*K*x0)**.5)/(2*(K**2)*x0)\n",
    "    return D1*x1/x0*hyp2f1(2, D2/(D1-D2), D1/(D1-D2), K*x1)"
   ]
  },
  {
   "cell_type": "code",
   "execution_count": 3,
   "metadata": {
    "collapsed": false
   },
   "outputs": [
    {
     "name": "stdout",
     "output_type": "stream",
     "text": [
      "2.1376851544 1.71202925778 6.32898008853 1.24862653176\n"
     ]
    },
    {
     "data": {
      "image/png": "[encoded data removed]",
      "text/plain": [
       "<matplotlib.figure.Figure at 0x1cb7fa17390>"
      ]
     },
     "metadata": {},
     "output_type": "display_data"
    },
    {
     "data": {
      "text/html": [
       "\n",
       "        <style  type=\"text/css\" >\n",
       "        \n",
       "        \n",
       "        </style>\n",
       "\n",
       "        <table id=\"T_32b8c3e8_360d_11e7_93fe_1c1b0d8169e3\" None>\n",
       "        \n",
       "\n",
       "        <thead>\n",
       "            \n",
       "            <tr>\n",
       "                \n",
       "                \n",
       "                <th class=\"blank level0\" >\n",
       "                  \n",
       "                \n",
       "                \n",
       "                \n",
       "                <th class=\"col_heading level0 col0\" colspan=1>\n",
       "                  D1\n",
       "                \n",
       "                \n",
       "                \n",
       "                <th class=\"col_heading level0 col1\" colspan=1>\n",
       "                  D2\n",
       "                \n",
       "                \n",
       "                \n",
       "                <th class=\"col_heading level0 col2\" colspan=1>\n",
       "                  D1/D2\n",
       "                \n",
       "                \n",
       "                \n",
       "                <th class=\"col_heading level0 col3\" colspan=1>\n",
       "                  K\n",
       "                \n",
       "                \n",
       "            </tr>\n",
       "            \n",
       "        </thead>\n",
       "        <tbody>\n",
       "            \n",
       "            <tr>\n",
       "                \n",
       "                \n",
       "                <th id=\"T_32b8c3e8_360d_11e7_93fe_1c1b0d8169e3\"\n",
       "                 class=\"row_heading level0 row0\" rowspan=1>\n",
       "                    0\n",
       "                \n",
       "                \n",
       "                \n",
       "                <td id=\"T_32b8c3e8_360d_11e7_93fe_1c1b0d8169e3row0_col0\"\n",
       "                 class=\"data row0 col0\" >\n",
       "                    2.13769\n",
       "                \n",
       "                \n",
       "                \n",
       "                <td id=\"T_32b8c3e8_360d_11e7_93fe_1c1b0d8169e3row0_col1\"\n",
       "                 class=\"data row0 col1\" >\n",
       "                    1.71203\n",
       "                \n",
       "                \n",
       "                \n",
       "                <td id=\"T_32b8c3e8_360d_11e7_93fe_1c1b0d8169e3row0_col2\"\n",
       "                 class=\"data row0 col2\" >\n",
       "                    1.24863\n",
       "                \n",
       "                \n",
       "                \n",
       "                <td id=\"T_32b8c3e8_360d_11e7_93fe_1c1b0d8169e3row0_col3\"\n",
       "                 class=\"data row0 col3\" >\n",
       "                    6.32898\n",
       "                \n",
       "                \n",
       "            </tr>\n",
       "            \n",
       "        </tbody>\n",
       "        </table>\n",
       "        "
      ],
      "text/plain": [
       "<pandas.formats.style.Styler at 0x1cb7fe2cac8>"
      ]
     },
     "execution_count": 3,
     "metadata": {},
     "output_type": "execute_result"
    }
   ],
   "source": [
    "aik_data = loadtxt('data_files\\\\aik.dat')\n",
    "x0 = aik_data[:,0]\n",
    "D_obs = aik_data[:,1] * 1e10\n",
    "\n",
    "(D1, D2, K), cov = curve_fit(\n",
    "        SHIM, x0, D_obs,\n",
    "        p0=[1.4, 1.2, .4],\n",
    "        bounds=([1,0,.3], [10,10,10]))\n",
    "print(D1, D2, K, D1/D2)\n",
    "\n",
    "plot(x0, D_obs, D1, D2, K, 6.046585245, 4.36710237, 1.036705676)\n",
    "show_params(D1, D2, K)"
   ]
  },
  {
   "cell_type": "code",
   "execution_count": 4,
   "metadata": {
    "collapsed": false
   },
   "outputs": [
    {
     "data": {
      "image/png": "[encoded data removed]",
      "text/plain": [
       "<matplotlib.figure.Figure at 0x1cb7f9d10f0>"
      ]
     },
     "metadata": {},
     "output_type": "display_data"
    },
    {
     "data": {
      "text/html": [
       "\n",
       "        <style  type=\"text/css\" >\n",
       "        \n",
       "        \n",
       "        </style>\n",
       "\n",
       "        <table id=\"T_32d426ae_360d_11e7_949e_1c1b0d8169e3\" None>\n",
       "        \n",
       "\n",
       "        <thead>\n",
       "            \n",
       "            <tr>\n",
       "                \n",
       "                \n",
       "                <th class=\"blank level0\" >\n",
       "                  \n",
       "                \n",
       "                \n",
       "                \n",
       "                <th class=\"col_heading level0 col0\" colspan=1>\n",
       "                  D1\n",
       "                \n",
       "                \n",
       "                \n",
       "                <th class=\"col_heading level0 col1\" colspan=1>\n",
       "                  D2\n",
       "                \n",
       "                \n",
       "                \n",
       "                <th class=\"col_heading level0 col2\" colspan=1>\n",
       "                  D1/D2\n",
       "                \n",
       "                \n",
       "                \n",
       "                <th class=\"col_heading level0 col3\" colspan=1>\n",
       "                  K\n",
       "                \n",
       "                \n",
       "            </tr>\n",
       "            \n",
       "        </thead>\n",
       "        <tbody>\n",
       "            \n",
       "            <tr>\n",
       "                \n",
       "                \n",
       "                <th id=\"T_32d426ae_360d_11e7_949e_1c1b0d8169e3\"\n",
       "                 class=\"row_heading level0 row0\" rowspan=1>\n",
       "                    0\n",
       "                \n",
       "                \n",
       "                \n",
       "                <td id=\"T_32d426ae_360d_11e7_949e_1c1b0d8169e3row0_col0\"\n",
       "                 class=\"data row0 col0\" >\n",
       "                    6.64896\n",
       "                \n",
       "                \n",
       "                \n",
       "                <td id=\"T_32d426ae_360d_11e7_949e_1c1b0d8169e3row0_col1\"\n",
       "                 class=\"data row0 col1\" >\n",
       "                    5.05284\n",
       "                \n",
       "                \n",
       "                \n",
       "                <td id=\"T_32d426ae_360d_11e7_949e_1c1b0d8169e3row0_col2\"\n",
       "                 class=\"data row0 col2\" >\n",
       "                    1.31589\n",
       "                \n",
       "                \n",
       "                \n",
       "                <td id=\"T_32d426ae_360d_11e7_949e_1c1b0d8169e3row0_col3\"\n",
       "                 class=\"data row0 col3\" >\n",
       "                    0.013\n",
       "                \n",
       "                \n",
       "            </tr>\n",
       "            \n",
       "        </tbody>\n",
       "        </table>\n",
       "        "
      ],
      "text/plain": [
       "<pandas.formats.style.Styler at 0x1cb0015d780>"
      ]
     },
     "execution_count": 4,
     "metadata": {},
     "output_type": "execute_result"
    }
   ],
   "source": [
    "caf_data = loadtxt('data_files\\\\caf.dat')\n",
    "x0 = caf_data[:,0]\n",
    "D_obs = caf_data[:,1]*1e10\n",
    "\n",
    "(D1, D2, K), cov = curve_fit(\n",
    "        SHIM, x0, D_obs,\n",
    "        p0=[7, 5.5, 1.15e-2],\n",
    "        loss='soft_l1',\n",
    "        bounds=([6,5,1e-2], [8,6,1.3e-2]))\n",
    "\n",
    "plot(x0, D_obs, D1, D2, K, 6.700092743, 5.845994206, .033101402)\n",
    "show_params(D1, D2, K)"
   ]
  },
  {
   "cell_type": "code",
   "execution_count": 5,
   "metadata": {
    "collapsed": false
   },
   "outputs": [
    {
     "data": {
      "image/png": "[encoded data removed]",
      "text/plain": [
       "<matplotlib.figure.Figure at 0x1cb000f12b0>"
      ]
     },
     "metadata": {},
     "output_type": "display_data"
    },
    {
     "data": {
      "text/html": [
       "\n",
       "        <style  type=\"text/css\" >\n",
       "        \n",
       "        \n",
       "        </style>\n",
       "\n",
       "        <table id=\"T_32ed9fe8_360d_11e7_b032_1c1b0d8169e3\" None>\n",
       "        \n",
       "\n",
       "        <thead>\n",
       "            \n",
       "            <tr>\n",
       "                \n",
       "                \n",
       "                <th class=\"blank level0\" >\n",
       "                  \n",
       "                \n",
       "                \n",
       "                \n",
       "                <th class=\"col_heading level0 col0\" colspan=1>\n",
       "                  D1\n",
       "                \n",
       "                \n",
       "                \n",
       "                <th class=\"col_heading level0 col1\" colspan=1>\n",
       "                  D2\n",
       "                \n",
       "                \n",
       "                \n",
       "                <th class=\"col_heading level0 col2\" colspan=1>\n",
       "                  D1/D2\n",
       "                \n",
       "                \n",
       "                \n",
       "                <th class=\"col_heading level0 col3\" colspan=1>\n",
       "                  K\n",
       "                \n",
       "                \n",
       "            </tr>\n",
       "            \n",
       "        </thead>\n",
       "        <tbody>\n",
       "            \n",
       "            <tr>\n",
       "                \n",
       "                \n",
       "                <th id=\"T_32ed9fe8_360d_11e7_b032_1c1b0d8169e3\"\n",
       "                 class=\"row_heading level0 row0\" rowspan=1>\n",
       "                    0\n",
       "                \n",
       "                \n",
       "                \n",
       "                <td id=\"T_32ed9fe8_360d_11e7_b032_1c1b0d8169e3row0_col0\"\n",
       "                 class=\"data row0 col0\" >\n",
       "                    4.93202\n",
       "                \n",
       "                \n",
       "                \n",
       "                <td id=\"T_32ed9fe8_360d_11e7_b032_1c1b0d8169e3row0_col1\"\n",
       "                 class=\"data row0 col1\" >\n",
       "                    4.07505\n",
       "                \n",
       "                \n",
       "                \n",
       "                <td id=\"T_32ed9fe8_360d_11e7_b032_1c1b0d8169e3row0_col2\"\n",
       "                 class=\"data row0 col2\" >\n",
       "                    1.2103\n",
       "                \n",
       "                \n",
       "                \n",
       "                <td id=\"T_32ed9fe8_360d_11e7_b032_1c1b0d8169e3row0_col3\"\n",
       "                 class=\"data row0 col3\" >\n",
       "                    0.4\n",
       "                \n",
       "                \n",
       "            </tr>\n",
       "            \n",
       "        </tbody>\n",
       "        </table>\n",
       "        "
      ],
      "text/plain": [
       "<pandas.formats.style.Styler at 0x1cb0017ff60>"
      ]
     },
     "execution_count": 5,
     "metadata": {},
     "output_type": "execute_result"
    }
   ],
   "source": [
    "eb_data = loadtxt('data_files\\\\eb.dat')\n",
    "x0 = eb_data[:,0]\n",
    "D_obs = eb_data[:,1]*1e10\n",
    "\n",
    "(D1, D2, K), cov = curve_fit(\n",
    "        SHIM, x0, D_obs,\n",
    "        p0=[4.8, 4, .3],\n",
    "        loss='soft_l1',\n",
    "        bounds=([4,3,.2], [6,5,.4]))\n",
    "\n",
    "plot(x0, D_obs, D1, D2, K, 5.000985502, 4.5332945, 1.161351576)\n",
    "show_params(D1, D2, K)"
   ]
  },
  {
   "cell_type": "code",
   "execution_count": 6,
   "metadata": {
    "collapsed": false
   },
   "outputs": [
    {
     "data": {
      "image/png": "[encoded data removed]",
      "text/plain": [
       "<matplotlib.figure.Figure at 0x1cb7c729cf8>"
      ]
     },
     "metadata": {},
     "output_type": "display_data"
    },
    {
     "data": {
      "text/html": [
       "\n",
       "        <style  type=\"text/css\" >\n",
       "        \n",
       "        \n",
       "        </style>\n",
       "\n",
       "        <table id=\"T_3304e13e_360d_11e7_b4a0_1c1b0d8169e3\" None>\n",
       "        \n",
       "\n",
       "        <thead>\n",
       "            \n",
       "            <tr>\n",
       "                \n",
       "                \n",
       "                <th class=\"blank level0\" >\n",
       "                  \n",
       "                \n",
       "                \n",
       "                \n",
       "                <th class=\"col_heading level0 col0\" colspan=1>\n",
       "                  D1\n",
       "                \n",
       "                \n",
       "                \n",
       "                <th class=\"col_heading level0 col1\" colspan=1>\n",
       "                  D2\n",
       "                \n",
       "                \n",
       "                \n",
       "                <th class=\"col_heading level0 col2\" colspan=1>\n",
       "                  D1/D2\n",
       "                \n",
       "                \n",
       "                \n",
       "                <th class=\"col_heading level0 col3\" colspan=1>\n",
       "                  K\n",
       "                \n",
       "                \n",
       "            </tr>\n",
       "            \n",
       "        </thead>\n",
       "        <tbody>\n",
       "            \n",
       "            <tr>\n",
       "                \n",
       "                \n",
       "                <th id=\"T_3304e13e_360d_11e7_b4a0_1c1b0d8169e3\"\n",
       "                 class=\"row_heading level0 row0\" rowspan=1>\n",
       "                    0\n",
       "                \n",
       "                \n",
       "                \n",
       "                <td id=\"T_3304e13e_360d_11e7_b4a0_1c1b0d8169e3row0_col0\"\n",
       "                 class=\"data row0 col0\" >\n",
       "                    5.11818\n",
       "                \n",
       "                \n",
       "                \n",
       "                <td id=\"T_3304e13e_360d_11e7_b4a0_1c1b0d8169e3row0_col1\"\n",
       "                 class=\"data row0 col1\" >\n",
       "                    3.73122\n",
       "                \n",
       "                \n",
       "                \n",
       "                <td id=\"T_3304e13e_360d_11e7_b4a0_1c1b0d8169e3row0_col2\"\n",
       "                 class=\"data row0 col2\" >\n",
       "                    1.37172\n",
       "                \n",
       "                \n",
       "                \n",
       "                <td id=\"T_3304e13e_360d_11e7_b4a0_1c1b0d8169e3row0_col3\"\n",
       "                 class=\"data row0 col3\" >\n",
       "                    5.5\n",
       "                \n",
       "                \n",
       "            </tr>\n",
       "            \n",
       "        </tbody>\n",
       "        </table>\n",
       "        "
      ],
      "text/plain": [
       "<pandas.formats.style.Styler at 0x1cb00201fd0>"
      ]
     },
     "execution_count": 6,
     "metadata": {},
     "output_type": "execute_result"
    }
   ],
   "source": [
    "nb_data = loadtxt('data_files\\\\nb.dat')\n",
    "x0 = nb_data[:,0]\n",
    "D_obs = nb_data[:,1]*1e10\n",
    "\n",
    "(D1, D2, K), cov = curve_fit(\n",
    "        SHIM, x0, D_obs,\n",
    "        p0=[4.7, 3.5, 6],\n",
    "        loss='soft_l1',\n",
    "        bounds=([4,3,5.5], [7, 5, 6]))\n",
    "\n",
    "plot(x0, D_obs, D1, D2, K, 5.006336409, 3.493836991, 4.099913202)\n",
    "show_params(D1, D2, K)"
   ]
  },
  {
   "cell_type": "code",
   "execution_count": 7,
   "metadata": {
    "collapsed": false
   },
   "outputs": [
    {
     "name": "stdout",
     "output_type": "stream",
     "text": [
      "[ 5.2   4.5   3.8   3.2   2.6   2.1   1.65  1.35  1.1   0.9   0.7   0.5\n",
      "  0.3   0.15] [ 3.1205   3.2855   3.3605   3.53125  3.704    3.8445   4.0855   4.216\n",
      "  4.374    4.528    4.7935   4.99     5.392    5.62125]\n"
     ]
    },
    {
     "name": "stderr",
     "output_type": "stream",
     "text": [
      "C:\\Soft\\Anaconda3\\lib\\site-packages\\ipykernel\\__main__.py:33: RuntimeWarning: divide by zero encountered in double_scalars\n"
     ]
    },
    {
     "ename": "ValueError",
     "evalue": "Residuals are not finite in the initial point.",
     "output_type": "error",
     "traceback": [
      "\u001b[0;31m---------------------------------------------------------------------------\u001b[0m",
      "\u001b[0;31mValueError\u001b[0m                                Traceback (most recent call last)",
      "\u001b[0;32m<ipython-input-7-209f94ac3f37>\u001b[0m in \u001b[0;36m<module>\u001b[0;34m()\u001b[0m\n\u001b[1;32m      7\u001b[0m         \u001b[0mp0\u001b[0m\u001b[1;33m=\u001b[0m\u001b[1;33m[\u001b[0m\u001b[1;36m2\u001b[0m\u001b[1;33m,\u001b[0m \u001b[1;36m2\u001b[0m\u001b[1;33m,\u001b[0m \u001b[1;36m.5\u001b[0m\u001b[1;33m]\u001b[0m\u001b[1;33m,\u001b[0m\u001b[1;33m\u001b[0m\u001b[0m\n\u001b[1;32m      8\u001b[0m         \u001b[0mloss\u001b[0m\u001b[1;33m=\u001b[0m\u001b[1;34m'soft_l1'\u001b[0m\u001b[1;33m,\u001b[0m\u001b[1;33m\u001b[0m\u001b[0m\n\u001b[0;32m----> 9\u001b[0;31m         bounds=([1,1,.1], [15,15,1]))\n\u001b[0m\u001b[1;32m     10\u001b[0m \u001b[1;33m\u001b[0m\u001b[0m\n\u001b[1;32m     11\u001b[0m \u001b[0mplot\u001b[0m\u001b[1;33m(\u001b[0m\u001b[0mx0\u001b[0m\u001b[1;33m,\u001b[0m \u001b[0mD_obs\u001b[0m\u001b[1;33m,\u001b[0m \u001b[0mD1\u001b[0m\u001b[1;33m,\u001b[0m \u001b[0mD2\u001b[0m\u001b[1;33m,\u001b[0m \u001b[0mK\u001b[0m\u001b[1;33m)\u001b[0m\u001b[1;33m\u001b[0m\u001b[0m\n",
      "\u001b[0;32mC:\\Soft\\Anaconda3\\lib\\site-packages\\scipy\\optimize\\minpack.py\u001b[0m in \u001b[0;36mcurve_fit\u001b[0;34m(f, xdata, ydata, p0, sigma, absolute_sigma, check_finite, bounds, method, jac, **kwargs)\u001b[0m\n\u001b[1;32m    681\u001b[0m     \u001b[1;32melse\u001b[0m\u001b[1;33m:\u001b[0m\u001b[1;33m\u001b[0m\u001b[0m\n\u001b[1;32m    682\u001b[0m         res = least_squares(func, p0, jac=jac, bounds=bounds, method=method,\n\u001b[0;32m--> 683\u001b[0;31m                             **kwargs)\n\u001b[0m\u001b[1;32m    684\u001b[0m \u001b[1;33m\u001b[0m\u001b[0m\n\u001b[1;32m    685\u001b[0m         \u001b[1;32mif\u001b[0m \u001b[1;32mnot\u001b[0m \u001b[0mres\u001b[0m\u001b[1;33m.\u001b[0m\u001b[0msuccess\u001b[0m\u001b[1;33m:\u001b[0m\u001b[1;33m\u001b[0m\u001b[0m\n",
      "\u001b[0;32mC:\\Soft\\Anaconda3\\lib\\site-packages\\scipy\\optimize\\_lsq\\least_squares.py\u001b[0m in \u001b[0;36mleast_squares\u001b[0;34m(fun, x0, jac, bounds, method, ftol, xtol, gtol, x_scale, loss, f_scale, diff_step, tr_solver, tr_options, jac_sparsity, max_nfev, verbose, args, kwargs)\u001b[0m\n\u001b[1;32m    773\u001b[0m \u001b[1;33m\u001b[0m\u001b[0m\n\u001b[1;32m    774\u001b[0m     \u001b[1;32mif\u001b[0m \u001b[1;32mnot\u001b[0m \u001b[0mnp\u001b[0m\u001b[1;33m.\u001b[0m\u001b[0mall\u001b[0m\u001b[1;33m(\u001b[0m\u001b[0mnp\u001b[0m\u001b[1;33m.\u001b[0m\u001b[0misfinite\u001b[0m\u001b[1;33m(\u001b[0m\u001b[0mf0\u001b[0m\u001b[1;33m)\u001b[0m\u001b[1;33m)\u001b[0m\u001b[1;33m:\u001b[0m\u001b[1;33m\u001b[0m\u001b[0m\n\u001b[0;32m--> 775\u001b[0;31m         \u001b[1;32mraise\u001b[0m \u001b[0mValueError\u001b[0m\u001b[1;33m(\u001b[0m\u001b[1;34m\"Residuals are not finite in the initial point.\"\u001b[0m\u001b[1;33m)\u001b[0m\u001b[1;33m\u001b[0m\u001b[0m\n\u001b[0m\u001b[1;32m    776\u001b[0m \u001b[1;33m\u001b[0m\u001b[0m\n\u001b[1;32m    777\u001b[0m     \u001b[0mn\u001b[0m \u001b[1;33m=\u001b[0m \u001b[0mx0\u001b[0m\u001b[1;33m.\u001b[0m\u001b[0msize\u001b[0m\u001b[1;33m\u001b[0m\u001b[0m\n",
      "\u001b[0;31mValueError\u001b[0m: Residuals are not finite in the initial point."
     ]
    }
   ],
   "source": [
    "pf_data = loadtxt('data_files\\\\pf.dat')\n",
    "x0 = pf_data[:,0]\n",
    "D_obs = pf_data[:,1]*1e10\n",
    "print(x0, D_obs)\n",
    "(D1, D2, K), cov = curve_fit(\n",
    "        SHIM, x0, D_obs,\n",
    "        p0=[2, 2, .5],\n",
    "        loss='soft_l1',\n",
    "        bounds=([1,1,.1], [15,15,1]))\n",
    "\n",
    "plot(x0, D_obs, D1, D2, K)\n",
    "show_params(D1, D2, K)"
   ]
  }
 ],
 "metadata": {
  "kernelspec": {
   "display_name": "Python 3",
   "language": "python",
   "name": "python3"
  },
  "language_info": {
   "codemirror_mode": {
    "name": "ipython",
    "version": 3
   },
   "file_extension": ".py",
   "mimetype": "text/x-python",
   "name": "python",
   "nbconvert_exporter": "python",
   "pygments_lexer": "ipython3",
   "version": "3.6.0"
  }
 },
 "nbformat": 4,
 "nbformat_minor": 2
}
