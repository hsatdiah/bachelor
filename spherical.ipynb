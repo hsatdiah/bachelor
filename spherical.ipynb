{
 "cells": [
  {
   "cell_type": "code",
   "execution_count": 1,
   "metadata": {
    "collapsed": true
   },
   "outputs": [],
   "source": [
    "from numpy import sqrt, pi, exp, diag, linspace, loadtxt, zeros\n",
    "from pandas import DataFrame\n",
    "from scipy.optimize import curve_fit\n",
    "import matplotlib.pyplot as plt\n",
    "# %matplotlib inline"
   ]
  },
  {
   "cell_type": "code",
   "execution_count": 2,
   "metadata": {
    "collapsed": true
   },
   "outputs": [],
   "source": [
    "def spherical(x0, D1, D2, K, d):\n",
    "    k = 1.38e-23\n",
    "    T = 298\n",
    "    eta = 0.00125\n",
    "    x1 = (1+2*K*x0-(1+4*K*x0)**.5)/(2*(K**2)*x0)\n",
    "    \n",
    "    M = zeros(len(x1))\n",
    "    for i in range(3, 101):\n",
    "        M += i**(2/3)*(K*x1)**(i-1)\n",
    "    \n",
    "    D = (x1/x0)*(D1+2*K*x1*D2+((k*T*1e10)/(3*pi*eta*d))*M)\n",
    "    return D"
   ]
  },
  {
   "cell_type": "code",
   "execution_count": 3,
   "metadata": {
    "collapsed": true
   },
   "outputs": [],
   "source": [
    "def plot(x0, D_obs, *args):\n",
    "    fig  = plt.figure()\n",
    "    axes = fig.add_subplot(1,1,1)\n",
    "    axes.plot(x0, D_obs, 'o', linewidth=3, color='#90CAF9', label='D (observed)')\n",
    "    axes.plot(x0, spherical(x0, args[0], args[1], args[2], args[3]), linewidth=2, color='#BA68C8', label='D (spherical model)')\n",
    "    axes.plot(x0, spherical(x0, args[4], args[5], args[6], args[7]), linewidth=2, color='green', label='suppl. calc')\n",
    "    axes.spines['top'].set_visible(False)\n",
    "    axes.spines['right'].set_visible(False)\n",
    "    axes.xaxis.set_ticks_position('bottom')\n",
    "    axes.yaxis.set_ticks_position('left')\n",
    "    axes.set_xlabel('Concentration')\n",
    "    axes.set_ylabel('D')\n",
    "    axes.legend()\n",
    "    axes.grid(alpha=.5)\n",
    "    plt.show()"
   ]
  },
  {
   "cell_type": "code",
   "execution_count": 4,
   "metadata": {
    "collapsed": false
   },
   "outputs": [],
   "source": [
    "def show_params(D1, D2, K, d):\n",
    "    table_data = {\n",
    "        'D1'   : D1,\n",
    "        'D2'   : D2,\n",
    "        'D1/D2': D1/D2,\n",
    "        'K'    : K,\n",
    "        'd'    : d\n",
    "    }\n",
    "    props_table = DataFrame(\n",
    "        table_data,\n",
    "        index=[0],\n",
    "        columns=['D1', 'D2', 'D1/D2', 'K', 'd']\n",
    "    )\n",
    "    return props_table.style"
   ]
  },
  {
   "cell_type": "code",
   "execution_count": 5,
   "metadata": {
    "collapsed": false
   },
   "outputs": [
    {
     "name": "stdout",
     "output_type": "stream",
     "text": [
      "[ 0.842  0.744  0.848  0.902  0.932  1.024  1.188  1.338  1.507  1.671]\n",
      "[  9.39386450e-01   1.78277673e+01   1.94029937e+01   3.73678562e-10]\n"
     ]
    },
    {
     "data": {
      "image/png": "[encoded data removed]",
      "text/plain": [
       "<matplotlib.figure.Figure at 0x17daf0f56d8>"
      ]
     },
     "metadata": {},
     "output_type": "display_data"
    },
    {
     "data": {
      "text/html": [
       "\n",
       "        <style  type=\"text/css\" >\n",
       "        \n",
       "        \n",
       "        </style>\n",
       "\n",
       "        <table id=\"T_60266170_35f8_11e7_94b4_1c1b0d8169e3\" None>\n",
       "        \n",
       "\n",
       "        <thead>\n",
       "            \n",
       "            <tr>\n",
       "                \n",
       "                \n",
       "                <th class=\"blank level0\" >\n",
       "                  \n",
       "                \n",
       "                \n",
       "                \n",
       "                <th class=\"col_heading level0 col0\" colspan=1>\n",
       "                  D1\n",
       "                \n",
       "                \n",
       "                \n",
       "                <th class=\"col_heading level0 col1\" colspan=1>\n",
       "                  D2\n",
       "                \n",
       "                \n",
       "                \n",
       "                <th class=\"col_heading level0 col2\" colspan=1>\n",
       "                  D1/D2\n",
       "                \n",
       "                \n",
       "                \n",
       "                <th class=\"col_heading level0 col3\" colspan=1>\n",
       "                  K\n",
       "                \n",
       "                \n",
       "                \n",
       "                <th class=\"col_heading level0 col4\" colspan=1>\n",
       "                  d\n",
       "                \n",
       "                \n",
       "            </tr>\n",
       "            \n",
       "        </thead>\n",
       "        <tbody>\n",
       "            \n",
       "            <tr>\n",
       "                \n",
       "                \n",
       "                <th id=\"T_60266170_35f8_11e7_94b4_1c1b0d8169e3\"\n",
       "                 class=\"row_heading level0 row0\" rowspan=1>\n",
       "                    0\n",
       "                \n",
       "                \n",
       "                \n",
       "                <td id=\"T_60266170_35f8_11e7_94b4_1c1b0d8169e3row0_col0\"\n",
       "                 class=\"data row0 col0\" >\n",
       "                    1.41958\n",
       "                \n",
       "                \n",
       "                \n",
       "                <td id=\"T_60266170_35f8_11e7_94b4_1c1b0d8169e3row0_col1\"\n",
       "                 class=\"data row0 col1\" >\n",
       "                    1.20035\n",
       "                \n",
       "                \n",
       "                \n",
       "                <td id=\"T_60266170_35f8_11e7_94b4_1c1b0d8169e3row0_col2\"\n",
       "                 class=\"data row0 col2\" >\n",
       "                    1.18264\n",
       "                \n",
       "                \n",
       "                \n",
       "                <td id=\"T_60266170_35f8_11e7_94b4_1c1b0d8169e3row0_col3\"\n",
       "                 class=\"data row0 col3\" >\n",
       "                    0.400386\n",
       "                \n",
       "                \n",
       "                \n",
       "                <td id=\"T_60266170_35f8_11e7_94b4_1c1b0d8169e3row0_col4\"\n",
       "                 class=\"data row0 col4\" >\n",
       "                    2.99587e-09\n",
       "                \n",
       "                \n",
       "            </tr>\n",
       "            \n",
       "        </tbody>\n",
       "        </table>\n",
       "        "
      ],
      "text/plain": [
       "<pandas.formats.style.Styler at 0x17daf570cc0>"
      ]
     },
     "execution_count": 5,
     "metadata": {},
     "output_type": "execute_result"
    }
   ],
   "source": [
    "aik_data = loadtxt('data_files\\\\aik.dat')\n",
    "x0 = aik_data[:,0]\n",
    "D_obs = aik_data[:,1]*1e10\n",
    "\n",
    "bv, cov = curve_fit(\n",
    "        spherical, x0, D_obs,\n",
    "        p0=[1.4, 1.2, .4,3e-9],\n",
    "        loss='soft_l1',\n",
    "        bounds=([1,1,.35,3e-11], [2,2,.5,3e-9]))\n",
    "\n",
    "print(D_obs)\n",
    "perr = sqrt(diag(cov))\n",
    "print(perr)\n",
    "plot(x0, D_obs, bv[0], bv[1], bv[2], bv[3], 5.628452875, 4.453836181, 0.591342644, 1.287e-9)\n",
    "show_params(bv[0], bv[1], bv[2], bv[3])"
   ]
  },
  {
   "cell_type": "code",
   "execution_count": 6,
   "metadata": {
    "collapsed": false
   },
   "outputs": [
    {
     "name": "stdout",
     "output_type": "stream",
     "text": [
      "[ 5.8665   5.904    5.959    6.0405   6.1495   6.11625  6.1195   6.22625\n",
      "  6.2075   6.33325  6.3885   6.5015   6.54175  6.691  ]\n"
     ]
    },
    {
     "data": {
      "image/png": "[encoded data removed]",
      "text/plain": [
       "<matplotlib.figure.Figure at 0x17daf0e3a90>"
      ]
     },
     "metadata": {},
     "output_type": "display_data"
    },
    {
     "data": {
      "text/html": [
       "\n",
       "        <style  type=\"text/css\" >\n",
       "        \n",
       "        \n",
       "        </style>\n",
       "\n",
       "        <table id=\"T_60437076_35f8_11e7_9f41_1c1b0d8169e3\" None>\n",
       "        \n",
       "\n",
       "        <thead>\n",
       "            \n",
       "            <tr>\n",
       "                \n",
       "                \n",
       "                <th class=\"blank level0\" >\n",
       "                  \n",
       "                \n",
       "                \n",
       "                \n",
       "                <th class=\"col_heading level0 col0\" colspan=1>\n",
       "                  D1\n",
       "                \n",
       "                \n",
       "                \n",
       "                <th class=\"col_heading level0 col1\" colspan=1>\n",
       "                  D2\n",
       "                \n",
       "                \n",
       "                \n",
       "                <th class=\"col_heading level0 col2\" colspan=1>\n",
       "                  D1/D2\n",
       "                \n",
       "                \n",
       "                \n",
       "                <th class=\"col_heading level0 col3\" colspan=1>\n",
       "                  K\n",
       "                \n",
       "                \n",
       "                \n",
       "                <th class=\"col_heading level0 col4\" colspan=1>\n",
       "                  d\n",
       "                \n",
       "                \n",
       "            </tr>\n",
       "            \n",
       "        </thead>\n",
       "        <tbody>\n",
       "            \n",
       "            <tr>\n",
       "                \n",
       "                \n",
       "                <th id=\"T_60437076_35f8_11e7_9f41_1c1b0d8169e3\"\n",
       "                 class=\"row_heading level0 row0\" rowspan=1>\n",
       "                    0\n",
       "                \n",
       "                \n",
       "                \n",
       "                <td id=\"T_60437076_35f8_11e7_9f41_1c1b0d8169e3row0_col0\"\n",
       "                 class=\"data row0 col0\" >\n",
       "                    6.71162\n",
       "                \n",
       "                \n",
       "                \n",
       "                <td id=\"T_60437076_35f8_11e7_9f41_1c1b0d8169e3row0_col1\"\n",
       "                 class=\"data row0 col1\" >\n",
       "                    5.36818\n",
       "                \n",
       "                \n",
       "                \n",
       "                <td id=\"T_60437076_35f8_11e7_9f41_1c1b0d8169e3row0_col2\"\n",
       "                 class=\"data row0 col2\" >\n",
       "                    1.25026\n",
       "                \n",
       "                \n",
       "                \n",
       "                <td id=\"T_60437076_35f8_11e7_9f41_1c1b0d8169e3row0_col3\"\n",
       "                 class=\"data row0 col3\" >\n",
       "                    0.0119147\n",
       "                \n",
       "                \n",
       "                \n",
       "                <td id=\"T_60437076_35f8_11e7_9f41_1c1b0d8169e3row0_col4\"\n",
       "                 class=\"data row0 col4\" >\n",
       "                    1.1461e-09\n",
       "                \n",
       "                \n",
       "            </tr>\n",
       "            \n",
       "        </tbody>\n",
       "        </table>\n",
       "        "
      ],
      "text/plain": [
       "<pandas.formats.style.Styler at 0x17daf7db5f8>"
      ]
     },
     "execution_count": 6,
     "metadata": {},
     "output_type": "execute_result"
    }
   ],
   "source": [
    "caf_data = loadtxt('data_files\\\\caf.dat')\n",
    "x0 = caf_data[:,0]\n",
    "D_obs = caf_data[:,1]*1e10\n",
    "\n",
    "bv, cov = curve_fit(\n",
    "        spherical, x0, D_obs,\n",
    "        p0=[7, 5.5, 1.15e-2,8e-10],\n",
    "        loss='soft_l1',\n",
    "        bounds=([6,5,1e-2,3e-10], [8,6,1.3e-2,3e-9]))\n",
    "\n",
    "print(D_obs)\n",
    "plot(x0, D_obs, bv[0], bv[1], bv[2], bv[3], 6.85995022, 5.295135494, 0.041781352, 0.469e-9)\n",
    "show_params(bv[0], bv[1], bv[2], bv[3])"
   ]
  },
  {
   "cell_type": "code",
   "execution_count": 7,
   "metadata": {
    "collapsed": false
   },
   "outputs": [
    {
     "name": "stdout",
     "output_type": "stream",
     "text": [
      "[ 3.1205   3.2855   3.3605   3.53125  3.704    3.8445   4.0855   4.216\n",
      "  4.374    4.528    4.7935   4.99     5.392    5.62125]\n"
     ]
    },
    {
     "data": {
      "image/png": "[encoded data removed]",
      "text/plain": [
       "<matplotlib.figure.Figure at 0x17dabe8cda0>"
      ]
     },
     "metadata": {},
     "output_type": "display_data"
    },
    {
     "data": {
      "text/html": [
       "\n",
       "        <style  type=\"text/css\" >\n",
       "        \n",
       "        \n",
       "        </style>\n",
       "\n",
       "        <table id=\"T_605f5c5c_35f8_11e7_b0af_1c1b0d8169e3\" None>\n",
       "        \n",
       "\n",
       "        <thead>\n",
       "            \n",
       "            <tr>\n",
       "                \n",
       "                \n",
       "                <th class=\"blank level0\" >\n",
       "                  \n",
       "                \n",
       "                \n",
       "                \n",
       "                <th class=\"col_heading level0 col0\" colspan=1>\n",
       "                  D1\n",
       "                \n",
       "                \n",
       "                \n",
       "                <th class=\"col_heading level0 col1\" colspan=1>\n",
       "                  D2\n",
       "                \n",
       "                \n",
       "                \n",
       "                <th class=\"col_heading level0 col2\" colspan=1>\n",
       "                  D1/D2\n",
       "                \n",
       "                \n",
       "                \n",
       "                <th class=\"col_heading level0 col3\" colspan=1>\n",
       "                  K\n",
       "                \n",
       "                \n",
       "                \n",
       "                <th class=\"col_heading level0 col4\" colspan=1>\n",
       "                  d\n",
       "                \n",
       "                \n",
       "            </tr>\n",
       "            \n",
       "        </thead>\n",
       "        <tbody>\n",
       "            \n",
       "            <tr>\n",
       "                \n",
       "                \n",
       "                <th id=\"T_605f5c5c_35f8_11e7_b0af_1c1b0d8169e3\"\n",
       "                 class=\"row_heading level0 row0\" rowspan=1>\n",
       "                    0\n",
       "                \n",
       "                \n",
       "                \n",
       "                <td id=\"T_605f5c5c_35f8_11e7_b0af_1c1b0d8169e3row0_col0\"\n",
       "                 class=\"data row0 col0\" >\n",
       "                    5.77171\n",
       "                \n",
       "                \n",
       "                \n",
       "                <td id=\"T_605f5c5c_35f8_11e7_b0af_1c1b0d8169e3row0_col1\"\n",
       "                 class=\"data row0 col1\" >\n",
       "                    4.61976\n",
       "                \n",
       "                \n",
       "                \n",
       "                <td id=\"T_605f5c5c_35f8_11e7_b0af_1c1b0d8169e3row0_col2\"\n",
       "                 class=\"data row0 col2\" >\n",
       "                    1.24935\n",
       "                \n",
       "                \n",
       "                \n",
       "                <td id=\"T_605f5c5c_35f8_11e7_b0af_1c1b0d8169e3row0_col3\"\n",
       "                 class=\"data row0 col3\" >\n",
       "                    0.710222\n",
       "                \n",
       "                \n",
       "                \n",
       "                <td id=\"T_605f5c5c_35f8_11e7_b0af_1c1b0d8169e3row0_col4\"\n",
       "                 class=\"data row0 col4\" >\n",
       "                    1.06842e-09\n",
       "                \n",
       "                \n",
       "            </tr>\n",
       "            \n",
       "        </tbody>\n",
       "        </table>\n",
       "        "
      ],
      "text/plain": [
       "<pandas.formats.style.Styler at 0x17daf4fdc50>"
      ]
     },
     "execution_count": 7,
     "metadata": {},
     "output_type": "execute_result"
    }
   ],
   "source": [
    "pf_data = loadtxt('data_files\\\\pf.dat')\n",
    "x0 = pf_data[:,0]\n",
    "D_obs = pf_data[:,1]*1e10\n",
    "\n",
    "bv, cov = curve_fit(\n",
    "        spherical, x0, D_obs,\n",
    "        p0=[5, 5, .6,1e-9],\n",
    "        loss='soft_l1',\n",
    "        bounds=([3,3,.4,3e-11], [7,7,.8,3e-9]))\n",
    "\n",
    "print(D_obs)\n",
    "plot(x0, D_obs, bv[0], bv[1], bv[2], bv[3], 6.065380531, 2.702376484, 0.483843874, 1.1e-9)\n",
    "show_params(bv[0], bv[1], bv[2], bv[3])"
   ]
  },
  {
   "cell_type": "code",
   "execution_count": 8,
   "metadata": {
    "collapsed": false
   },
   "outputs": [
    {
     "name": "stdout",
     "output_type": "stream",
     "text": [
      "[ 3.74285714  3.82057143  3.917       4.02714286  4.092       4.19514286\n",
      "  4.25        4.33285714  4.38671429  4.44214286  4.56685714  4.5875      4.8\n",
      "  4.83216667  4.88183333]\n"
     ]
    },
    {
     "data": {
      "image/png": "[encoded data removed]",
      "text/plain": [
       "<matplotlib.figure.Figure at 0x17daf4fd828>"
      ]
     },
     "metadata": {},
     "output_type": "display_data"
    },
    {
     "data": {
      "text/html": [
       "\n",
       "        <style  type=\"text/css\" >\n",
       "        \n",
       "        \n",
       "        </style>\n",
       "\n",
       "        <table id=\"T_60794b10_35f8_11e7_a292_1c1b0d8169e3\" None>\n",
       "        \n",
       "\n",
       "        <thead>\n",
       "            \n",
       "            <tr>\n",
       "                \n",
       "                \n",
       "                <th class=\"blank level0\" >\n",
       "                  \n",
       "                \n",
       "                \n",
       "                \n",
       "                <th class=\"col_heading level0 col0\" colspan=1>\n",
       "                  D1\n",
       "                \n",
       "                \n",
       "                \n",
       "                <th class=\"col_heading level0 col1\" colspan=1>\n",
       "                  D2\n",
       "                \n",
       "                \n",
       "                \n",
       "                <th class=\"col_heading level0 col2\" colspan=1>\n",
       "                  D1/D2\n",
       "                \n",
       "                \n",
       "                \n",
       "                <th class=\"col_heading level0 col3\" colspan=1>\n",
       "                  K\n",
       "                \n",
       "                \n",
       "                \n",
       "                <th class=\"col_heading level0 col4\" colspan=1>\n",
       "                  d\n",
       "                \n",
       "                \n",
       "            </tr>\n",
       "            \n",
       "        </thead>\n",
       "        <tbody>\n",
       "            \n",
       "            <tr>\n",
       "                \n",
       "                \n",
       "                <th id=\"T_60794b10_35f8_11e7_a292_1c1b0d8169e3\"\n",
       "                 class=\"row_heading level0 row0\" rowspan=1>\n",
       "                    0\n",
       "                \n",
       "                \n",
       "                \n",
       "                <td id=\"T_60794b10_35f8_11e7_a292_1c1b0d8169e3row0_col0\"\n",
       "                 class=\"data row0 col0\" >\n",
       "                    4.89135\n",
       "                \n",
       "                \n",
       "                \n",
       "                <td id=\"T_60794b10_35f8_11e7_a292_1c1b0d8169e3row0_col1\"\n",
       "                 class=\"data row0 col1\" >\n",
       "                    3.99837\n",
       "                \n",
       "                \n",
       "                \n",
       "                <td id=\"T_60794b10_35f8_11e7_a292_1c1b0d8169e3row0_col2\"\n",
       "                 class=\"data row0 col2\" >\n",
       "                    1.22333\n",
       "                \n",
       "                \n",
       "                \n",
       "                <td id=\"T_60794b10_35f8_11e7_a292_1c1b0d8169e3row0_col3\"\n",
       "                 class=\"data row0 col3\" >\n",
       "                    0.29424\n",
       "                \n",
       "                \n",
       "                \n",
       "                <td id=\"T_60794b10_35f8_11e7_a292_1c1b0d8169e3row0_col4\"\n",
       "                 class=\"data row0 col4\" >\n",
       "                    8.39359e-10\n",
       "                \n",
       "                \n",
       "            </tr>\n",
       "            \n",
       "        </tbody>\n",
       "        </table>\n",
       "        "
      ],
      "text/plain": [
       "<pandas.formats.style.Styler at 0x17daf8eed30>"
      ]
     },
     "execution_count": 8,
     "metadata": {},
     "output_type": "execute_result"
    }
   ],
   "source": [
    "eb_data = loadtxt('data_files\\\\eb.dat')\n",
    "x0 = eb_data[:,0]\n",
    "D_obs = eb_data[:,1]*1e10\n",
    "\n",
    "bv, cov = curve_fit(\n",
    "        spherical, x0, D_obs,\n",
    "        p0=[4.8, 4, .3,1e-9],\n",
    "        loss='soft_l1',\n",
    "        bounds=([4,3,.2,3e-11], [6,5,.4,3e-9]))\n",
    "\n",
    "print(D_obs)\n",
    "plot(x0, D_obs, bv[0], bv[1], bv[2], bv[3], 4.96722617, 4.024847726, .426756552, .805e-9)\n",
    "show_params(bv[0], bv[1], bv[2], bv[3])"
   ]
  },
  {
   "cell_type": "code",
   "execution_count": 9,
   "metadata": {
    "collapsed": false
   },
   "outputs": [
    {
     "name": "stdout",
     "output_type": "stream",
     "text": [
      "[ 4.117  3.994  3.432  2.738  2.054  2.317  1.778  1.671  1.646  1.778\n",
      "  1.673  1.582  1.481  1.308]\n"
     ]
    },
    {
     "data": {
      "image/png": "[encoded data removed]",
      "text/plain": [
       "<matplotlib.figure.Figure at 0x17daf7db898>"
      ]
     },
     "metadata": {},
     "output_type": "display_data"
    },
    {
     "data": {
      "text/html": [
       "\n",
       "        <style  type=\"text/css\" >\n",
       "        \n",
       "        \n",
       "        </style>\n",
       "\n",
       "        <table id=\"T_60923b36_35f8_11e7_b9a1_1c1b0d8169e3\" None>\n",
       "        \n",
       "\n",
       "        <thead>\n",
       "            \n",
       "            <tr>\n",
       "                \n",
       "                \n",
       "                <th class=\"blank level0\" >\n",
       "                  \n",
       "                \n",
       "                \n",
       "                \n",
       "                <th class=\"col_heading level0 col0\" colspan=1>\n",
       "                  D1\n",
       "                \n",
       "                \n",
       "                \n",
       "                <th class=\"col_heading level0 col1\" colspan=1>\n",
       "                  D2\n",
       "                \n",
       "                \n",
       "                \n",
       "                <th class=\"col_heading level0 col2\" colspan=1>\n",
       "                  D1/D2\n",
       "                \n",
       "                \n",
       "                \n",
       "                <th class=\"col_heading level0 col3\" colspan=1>\n",
       "                  K\n",
       "                \n",
       "                \n",
       "                \n",
       "                <th class=\"col_heading level0 col4\" colspan=1>\n",
       "                  d\n",
       "                \n",
       "                \n",
       "            </tr>\n",
       "            \n",
       "        </thead>\n",
       "        <tbody>\n",
       "            \n",
       "            <tr>\n",
       "                \n",
       "                \n",
       "                <th id=\"T_60923b36_35f8_11e7_b9a1_1c1b0d8169e3\"\n",
       "                 class=\"row_heading level0 row0\" rowspan=1>\n",
       "                    0\n",
       "                \n",
       "                \n",
       "                \n",
       "                <td id=\"T_60923b36_35f8_11e7_b9a1_1c1b0d8169e3row0_col0\"\n",
       "                 class=\"data row0 col0\" >\n",
       "                    5.35529\n",
       "                \n",
       "                \n",
       "                \n",
       "                <td id=\"T_60923b36_35f8_11e7_b9a1_1c1b0d8169e3row0_col1\"\n",
       "                 class=\"data row0 col1\" >\n",
       "                    4.19816\n",
       "                \n",
       "                \n",
       "                \n",
       "                <td id=\"T_60923b36_35f8_11e7_b9a1_1c1b0d8169e3row0_col2\"\n",
       "                 class=\"data row0 col2\" >\n",
       "                    1.27563\n",
       "                \n",
       "                \n",
       "                \n",
       "                <td id=\"T_60923b36_35f8_11e7_b9a1_1c1b0d8169e3row0_col3\"\n",
       "                 class=\"data row0 col3\" >\n",
       "                    5.64872\n",
       "                \n",
       "                \n",
       "                \n",
       "                <td id=\"T_60923b36_35f8_11e7_b9a1_1c1b0d8169e3row0_col4\"\n",
       "                 class=\"data row0 col4\" >\n",
       "                    1.28616e-09\n",
       "                \n",
       "                \n",
       "            </tr>\n",
       "            \n",
       "        </tbody>\n",
       "        </table>\n",
       "        "
      ],
      "text/plain": [
       "<pandas.formats.style.Styler at 0x17daf9ad0b8>"
      ]
     },
     "execution_count": 9,
     "metadata": {},
     "output_type": "execute_result"
    }
   ],
   "source": [
    "nb_data = loadtxt('data_files\\\\nb.dat')\n",
    "x0 = nb_data[:,0]\n",
    "D_obs = nb_data[:,1]*1e10\n",
    "\n",
    "bv, cov = curve_fit(\n",
    "        spherical, x0, D_obs,\n",
    "        p0=[4.7, 3.5, 6,1e-9],\n",
    "        loss='soft_l1',\n",
    "        bounds=([4,3,5.5,3e-11], [7, 5, 6, 3e-9]))\n",
    "\n",
    "print(D_obs)\n",
    "plot(x0, D_obs, bv[0], bv[1], bv[2], bv[3], 4.641945104, .406717889, .494400683, 1.924e-9)\n",
    "show_params(bv[0], bv[1], bv[2], bv[3])"
   ]
  }
 ],
 "metadata": {
  "kernelspec": {
   "display_name": "Python 3",
   "language": "python",
   "name": "python3"
  },
  "language_info": {
   "codemirror_mode": {
    "name": "ipython",
    "version": 3
   },
   "file_extension": ".py",
   "mimetype": "text/x-python",
   "name": "python",
   "nbconvert_exporter": "python",
   "pygments_lexer": "ipython3",
   "version": "3.6.0"
  }
 },
 "nbformat": 4,
 "nbformat_minor": 1
}
