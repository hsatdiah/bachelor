{
 "cells": [
  {
   "cell_type": "code",
   "execution_count": 2,
   "metadata": {
    "collapsed": true
   },
   "outputs": [],
   "source": [
    "from numpy import sqrt, pi, exp, arcsin, linspace, loadtxt, zeros\n",
    "from pandas import DataFrame\n",
    "from scipy.optimize import curve_fit\n",
    "import matplotlib.pyplot as plt"
   ]
  },
  {
   "cell_type": "code",
   "execution_count": null,
   "metadata": {
    "collapsed": true
   },
   "outputs": [],
   "source": [
    "def oblate(x0, D1, D2, K, d):\n",
    "    k = 1.38e-23\n",
    "    T = 298\n",
    "    L = 0.34e-9\n",
    "    eta = 0.00125\n",
    "    x1 = (1+2*K*x0-(1+4*K*x0)**.5)/(2*(K**2)*x0)\n",
    "    \n",
    "    SUMM = zeros(len(x1))\n",
    "    for i in range(3, 101):\n",
    "        av = sqrt( 1-(d/(L*i))**2 )  # additional variable\n",
    "        SUMM += i**(1/3) * (K*x1)**(i-1) * ( arcsin(av) / av )\n",
    "    \n",
    "    D = (x1/x0) * ( D1 + 2*K*x1*D2 + (k*T/(3*pi*eta*L**(2/3)*d**(1/3))) * SUMM)\n",
    "    return D"
   ]
  }
 ],
 "metadata": {
  "kernelspec": {
   "display_name": "Python 3",
   "language": "python",
   "name": "python3"
  },
  "language_info": {
   "codemirror_mode": {
    "name": "ipython",
    "version": 3
   },
   "file_extension": ".py",
   "mimetype": "text/x-python",
   "name": "python",
   "nbconvert_exporter": "python",
   "pygments_lexer": "ipython3",
   "version": "3.6.0"
  }
 },
 "nbformat": 4,
 "nbformat_minor": 2
}
