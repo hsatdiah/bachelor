{
 "cells": [
  {
   "cell_type": "code",
   "execution_count": 1,
   "metadata": {
    "collapsed": true
   },
   "outputs": [],
   "source": [
    "from numpy import sqrt, pi, exp, arcsin, linspace, loadtxt, zeros, diag\n",
    "from pandas import DataFrame\n",
    "from scipy.optimize import curve_fit\n",
    "import matplotlib.pyplot as plt\n",
    "from scipy.special import hyp2f1"
   ]
  },
  {
   "cell_type": "code",
   "execution_count": 2,
   "metadata": {
    "collapsed": true
   },
   "outputs": [],
   "source": [
    "def show_params(D1, D2, K):\n",
    "    table_data = {\n",
    "        'D1'   : D1,\n",
    "        'D2'   : D2,\n",
    "        'D1/D2': D1/D2,\n",
    "        'K'    : K\n",
    "    }\n",
    "    props_table = DataFrame(\n",
    "        table_data,\n",
    "        index=[0],\n",
    "        columns=['D1', 'D2', 'D1/D2', 'K']\n",
    "    )\n",
    "    return props_table.style\n",
    "\n",
    "def plot(x0, D_obs, *args):\n",
    "    fig  = plt.figure()\n",
    "    axes = fig.add_subplot(1,1,1)\n",
    "    axes.plot(x0, D_obs, 'o', linewidth=3, color='#90CAF9', label='D (observed)')\n",
    "    axes.plot(x0, SHIM(x0, *args), linewidth=2, color='#BA68C8', label='D (SHIM)')\n",
    "    axes.spines['top'].set_visible(False)\n",
    "    axes.spines['right'].set_visible(False)\n",
    "    axes.xaxis.set_ticks_position('bottom')\n",
    "    axes.yaxis.set_ticks_position('left')\n",
    "    axes.set_xlabel('Concentration')\n",
    "    axes.set_ylabel('D')\n",
    "    axes.legend()\n",
    "    axes.grid(alpha=.5)\n",
    "    plt.show()\n",
    "\n",
    "def SHIM(x0, D1, D2, K):\n",
    "    x1 = (1+2*K*x0-(1+4*K*x0)**.5)/(2*(K**2)*x0)\n",
    "    return D1*x1/x0*hyp2f1(2, D2/(D1-D2), D1/(D1-D2), K*x1)"
   ]
  },
  {
   "cell_type": "code",
   "execution_count": 3,
   "metadata": {
    "collapsed": false
   },
   "outputs": [
    {
     "name": "stdout",
     "output_type": "stream",
     "text": [
      "[ 0.842  0.744  0.848  0.902  0.932  1.024  1.188  1.338  1.507  1.671]\n",
      "[ 5.   4.5  4.   3.8  3.2  2.   1.   0.8  0.4  0.2]\n"
     ]
    }
   ],
   "source": [
    "aik_data = loadtxt('data_files\\\\aik.dat')\n",
    "x0 = aik_data[:,0]\n",
    "D_obs = aik_data[:,1] * 1e10\n",
    "print(D_obs)\n",
    "print(x0)"
   ]
  },
  {
   "cell_type": "code",
   "execution_count": 4,
   "metadata": {
    "collapsed": false
   },
   "outputs": [
    {
     "name": "stdout",
     "output_type": "stream",
     "text": [
      "2.13768729935 1.71203347221 6.32907635019 1.24862471093\n"
     ]
    },
    {
     "data": {
      "image/png": "[encoded data removed]",
      "text/plain": [
       "<matplotlib.figure.Figure at 0x22e268b3a90>"
      ]
     },
     "metadata": {},
     "output_type": "display_data"
    }
   ],
   "source": [
    "(D1, D2, K), cov = curve_fit(\n",
    "        SHIM, x0, D_obs,\n",
    "        p0=[1.4, 1.2, .4],\n",
    "        bounds=([1,0,.3], [10,10,100]))\n",
    "print(D1, D2, K, D1/D2)\n",
    "\n",
    "plot(x0, D_obs, D1, D2, K)\n",
    "show_params(D1, D2, K)"
   ]
  },
  {
   "cell_type": "code",
   "execution_count": 10,
   "metadata": {
    "collapsed": false,
    "scrolled": true
   },
   "outputs": [
    {
     "data": {
      "image/png": "[encoded data removed]",
      "text/plain": [
       "<matplotlib.figure.Figure at 0x22e26c6fcc0>"
      ]
     },
     "metadata": {},
     "output_type": "display_data"
    }
   ],
   "source": [
    "plot(x0, D_obs, 5.628452875, 4.453836181, 0.591342644)"
   ]
  },
  {
   "cell_type": "code",
   "execution_count": null,
   "metadata": {
    "collapsed": true
   },
   "outputs": [],
   "source": [
    "caf_data = loadtxt('data_files\\\\caf.dat')\n",
    "x0 = caf_data[:,0]\n",
    "D_obs = caf_data[:,1]*1e10\n",
    "\n",
    "(D1, D2, K), cov = curve_fit(\n",
    "        SHIM, x0, D_obs,\n",
    "        p0=[7, 5.5, 1.15e-2],\n",
    "        loss='soft_l1',\n",
    "        bounds=([6,5,1e-2], [8,6,1.3e-2]))\n",
    "\n",
    "plot(x0, D_obs, D1, D2, K)\n",
    "show_params(D1, D2, K)"
   ]
  },
  {
   "cell_type": "code",
   "execution_count": null,
   "metadata": {
    "collapsed": true
   },
   "outputs": [],
   "source": [
    "pf_data = loadtxt('data_files\\\\pf.dat')\n",
    "x0 = pf_data[:,0]\n",
    "D_obs = pf_data[:,1]*1e10\n",
    "\n",
    "(D1, D2, K), cov = curve_fit(\n",
    "        SHIM, x0, D_obs,\n",
    "        p0=[5, 5, .6],\n",
    "        loss='soft_l1',\n",
    "        bounds=([3,3,.4], [7,7,.8]))\n",
    "\n",
    "plot(x0, D_obs, D1, D2, K)\n",
    "show_params(D1, D2, K)"
   ]
  },
  {
   "cell_type": "code",
   "execution_count": null,
   "metadata": {
    "collapsed": true
   },
   "outputs": [],
   "source": [
    "eb_data = loadtxt('data_files\\\\eb.dat')\n",
    "x0 = eb_data[:,0]\n",
    "D_obs = eb_data[:,1]*1e10\n",
    "\n",
    "(D1, D2, K), cov = curve_fit(\n",
    "        SHIM, x0, D_obs,\n",
    "        p0=[4.8, 4, .3],\n",
    "        loss='soft_l1',\n",
    "        bounds=([4,3,.2], [6,5,.4]))\n",
    "\n",
    "plot(x0, D_obs, D1, D2, K)\n",
    "show_params(D1, D2, K)"
   ]
  },
  {
   "cell_type": "code",
   "execution_count": null,
   "metadata": {
    "collapsed": true
   },
   "outputs": [],
   "source": [
    "nb_data = loadtxt('data_files\\\\nb.dat')\n",
    "x0 = nb_data[:,0]\n",
    "D_obs = nb_data[:,1]*1e10\n",
    "\n",
    "(D1, D2, K), cov = curve_fit(\n",
    "        spherical, x0, D_obs,\n",
    "        p0=[4.7, 3.5, 6],\n",
    "        loss='soft_l1',\n",
    "        bounds=([4,3,5.5], [7, 5, 6]))\n",
    "\n",
    "plot(x0, D_obs, D1, D2, K)\n",
    "show_params(D1, D2, K)"
   ]
  }
 ],
 "metadata": {
  "kernelspec": {
   "display_name": "Python 3",
   "language": "python",
   "name": "python3"
  },
  "language_info": {
   "codemirror_mode": {
    "name": "ipython",
    "version": 3
   },
   "file_extension": ".py",
   "mimetype": "text/x-python",
   "name": "python",
   "nbconvert_exporter": "python",
   "pygments_lexer": "ipython3",
   "version": "3.6.0"
  }
 },
 "nbformat": 4,
 "nbformat_minor": 2
}
